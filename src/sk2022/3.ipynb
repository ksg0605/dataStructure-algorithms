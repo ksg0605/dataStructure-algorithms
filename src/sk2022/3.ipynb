{
 "cells": [
  {
   "cell_type": "code",
   "execution_count": 1,
   "metadata": {},
   "outputs": [],
   "source": [
    "width = 2\n",
    "height = 2\n",
    "diagonals = [\n",
    "  [1, 1],\n",
    "  [2, 2]\n",
    "]\n",
    "answer = 0\n"
   ]
  },
  {
   "cell_type": "code",
   "execution_count": null,
   "metadata": {},
   "outputs": [],
   "source": [
    "n = 5\n",
    "edges = [\n",
    "  [0, 1],\n",
    "  [0, 2],\n",
    "  [1, 3],\n",
    "  [1, 4]\n",
    "]\n",
    "answer = 0\n",
    "visit = [0 for _ in range(n+1)]\n",
    "nodeList = [0 for _ in range(n+1)]"
   ]
  },
  {
   "cell_type": "code",
   "execution_count": null,
   "metadata": {},
   "outputs": [],
   "source": [
    "def dfs(w):\n",
    "  "
   ]
  }
 ],
 "metadata": {
  "interpreter": {
   "hash": "de3a2e83f57d58b63a2bc602502f59c5dc9801de9d9e5f2e43a121b12a999c22"
  },
  "kernelspec": {
   "display_name": "Python 3.9.7 64-bit ('base': conda)",
   "language": "python",
   "name": "python3"
  },
  "language_info": {
   "codemirror_mode": {
    "name": "ipython",
    "version": 3
   },
   "file_extension": ".py",
   "mimetype": "text/x-python",
   "name": "python",
   "nbconvert_exporter": "python",
   "pygments_lexer": "ipython3",
   "version": "3.9.7"
  },
  "orig_nbformat": 4
 },
 "nbformat": 4,
 "nbformat_minor": 2
}
