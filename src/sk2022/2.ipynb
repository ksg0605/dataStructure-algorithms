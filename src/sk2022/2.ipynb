{
 "cells": [
  {
   "cell_type": "code",
   "execution_count": 4,
   "metadata": {},
   "outputs": [],
   "source": [
    "n = 5\n",
    "clockwise = True\n",
    "answer = [[0 for _ in range(n)] for _ in range(n)]\n",
    "counts = 0"
   ]
  },
  {
   "cell_type": "code",
   "execution_count": 5,
   "metadata": {},
   "outputs": [],
   "source": [
    "if n // 2 == 0:\n",
    "  counts = n // 2 + 1\n",
    "else:\n",
    "  counts = n // 2"
   ]
  },
  {
   "cell_type": "code",
   "execution_count": null,
   "metadata": {},
   "outputs": [],
   "source": [
    "if clockwise == True:\n",
    "  for i in range(n-1):\n",
    "    answer[0 ][i] = i + 1\n",
    "    answer[i][n-1] = i + 1\n",
    "    answer[n-1][n-1-i] = i + 1\n",
    "    answer[n-1-i][0] = i + 1\n",
    "    \n",
    "    \n",
    "\n"
   ]
  }
 ],
 "metadata": {
  "interpreter": {
   "hash": "de3a2e83f57d58b63a2bc602502f59c5dc9801de9d9e5f2e43a121b12a999c22"
  },
  "kernelspec": {
   "display_name": "Python 3.9.7 64-bit ('base': conda)",
   "language": "python",
   "name": "python3"
  },
  "language_info": {
   "codemirror_mode": {
    "name": "ipython",
    "version": 3
   },
   "file_extension": ".py",
   "mimetype": "text/x-python",
   "name": "python",
   "nbconvert_exporter": "python",
   "pygments_lexer": "ipython3",
   "version": "3.9.7"
  },
  "orig_nbformat": 4
 },
 "nbformat": 4,
 "nbformat_minor": 2
}
